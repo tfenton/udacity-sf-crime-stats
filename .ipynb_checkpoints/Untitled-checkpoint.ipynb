{
 "cells": [
  {
   "cell_type": "code",
   "execution_count": 1,
   "metadata": {
    "editable": true
   },
   "outputs": [],
   "source": [
    "import json"
   ]
  },
  {
   "cell_type": "code",
   "execution_count": 4,
   "metadata": {
    "editable": true
   },
   "outputs": [
    {
     "name": "stdout",
     "output_type": "stream",
     "text": [
      "-rw-r--r-- 1 root root 108M Oct 22  2019 police-department-calls-for-service.json\n"
     ]
    }
   ],
   "source": [
    "!ls -lh police-department-calls-for-service.json"
   ]
  },
  {
   "cell_type": "code",
   "execution_count": 6,
   "metadata": {
    "editable": true
   },
   "outputs": [
    {
     "name": "stdout",
     "output_type": "stream",
     "text": [
      "b'{\"crime_id\": \"183653763\", \"original_crime_type_name\": \"Traffic Stop\", \"report_date\": \"2018-12-31T00:00:00.000\", \"call_date\": \"2018-12-31T00:00:00.000\", \"offense_date\": \"2018-12-31T00:00:00.000\", \"call_time\": \"23:57\", \"call_date_time\": \"2018-12-31T23:57:00.000\", \"disposition\": \"ADM\", \"address\": \"Geary Bl/divisadero St\", \"city\": \"San Francisco\", \"state\": \"CA\", \"agency_id\": \"1\", \"address_type\": \"Intersection\", \"common_location\": \"\"}'\n",
      "b'{\"crime_id\": \"183653756\", \"original_crime_type_name\": \"Traf Violation Cite\", \"report_date\": \"2018-12-31T00:00:00.000\", \"call_date\": \"2018-12-31T00:00:00.000\", \"offense_date\": \"2018-12-31T00:00:00.000\", \"call_time\": \"23:54\", \"call_date_time\": \"2018-12-31T23:54:00.000\", \"disposition\": \"CIT\", \"address\": \"100 Blk Howard St\", \"city\": \"San Francisco\", \"state\": \"CA\", \"agency_id\": \"1\", \"address_type\": \"Geo-Override\", \"common_location\": \"\"}'\n",
      "b'{\"crime_id\": \"183653746\", \"original_crime_type_name\": \"Passing Call\", \"report_date\": \"2018-12-31T00:00:00.000\", \"call_date\": \"2018-12-31T00:00:00.000\", \"offense_date\": \"2018-12-31T00:00:00.000\", \"call_time\": \"23:49\", \"call_date_time\": \"2018-12-31T23:49:00.000\", \"disposition\": \"HAN\", \"address\": \"3300 Block Of 20th Av\", \"city\": \"San Francisco\", \"state\": \"CA\", \"agency_id\": \"1\", \"address_type\": \"Common Location\", \"common_location\": \"Stonestown Galleria, Sf\"}'\n",
      "b'{\"crime_id\": \"183653745\", \"original_crime_type_name\": \"Audible Alarm\", \"report_date\": \"2018-12-31T00:00:00.000\", \"call_date\": \"2018-12-31T00:00:00.000\", \"offense_date\": \"2018-12-31T00:00:00.000\", \"call_time\": \"23:47\", \"call_date_time\": \"2018-12-31T23:47:00.000\", \"disposition\": \"PAS\", \"address\": \"1900 Block Of 18th Av\", \"city\": \"San Francisco\", \"state\": \"CA\", \"agency_id\": \"1\", \"address_type\": \"Premise Address\", \"common_location\": \"\"}'\n",
      "b'{\"crime_id\": \"183653737\", \"original_crime_type_name\": \"Traffic Stop\", \"report_date\": \"2018-12-31T00:00:00.000\", \"call_date\": \"2018-12-31T00:00:00.000\", \"offense_date\": \"2018-12-31T00:00:00.000\", \"call_time\": \"23:46\", \"call_date_time\": \"2018-12-31T23:46:00.000\", \"disposition\": \"CIT\", \"address\": \"Sansome St/chestnut St\", \"city\": \"San Francisco\", \"state\": \"CA\", \"agency_id\": \"1\", \"address_type\": \"Intersection\", \"common_location\": \"\"}'\n",
      "b'{\"crime_id\": \"183653719\", \"original_crime_type_name\": \"Passing Call\", \"report_date\": \"2018-12-31T00:00:00.000\", \"call_date\": \"2018-12-31T00:00:00.000\", \"offense_date\": \"2018-12-31T00:00:00.000\", \"call_time\": \"23:38\", \"call_date_time\": \"2018-12-31T23:38:00.000\", \"disposition\": \"ND\", \"address\": \"Haight St/fillmore St\", \"city\": \"San Francisco\", \"state\": \"CA\", \"agency_id\": \"1\", \"address_type\": \"Intersection\", \"common_location\": \"\"}'\n",
      "b'{\"crime_id\": \"183653722\", \"original_crime_type_name\": \"Traffic Stop\", \"report_date\": \"2018-12-31T00:00:00.000\", \"call_date\": \"2018-12-31T00:00:00.000\", \"offense_date\": \"2018-12-31T00:00:00.000\", \"call_time\": \"23:38\", \"call_date_time\": \"2018-12-31T23:38:00.000\", \"disposition\": \"CIT\", \"address\": \"Geary Bl/parker Av\", \"city\": \"San Francisco\", \"state\": \"CA\", \"agency_id\": \"1\", \"address_type\": \"Intersection\", \"common_location\": \"\"}'\n",
      "b'{\"crime_id\": \"183653711\", \"original_crime_type_name\": \"Traffic Stop\", \"report_date\": \"2018-12-31T00:00:00.000\", \"call_date\": \"2018-12-31T00:00:00.000\", \"offense_date\": \"2018-12-31T00:00:00.000\", \"call_time\": \"23:36\", \"call_date_time\": \"2018-12-31T23:36:00.000\", \"disposition\": \"HAN\", \"address\": \"Battery St/union St\", \"city\": \"San Francisco\", \"state\": \"CA\", \"agency_id\": \"1\", \"address_type\": \"Intersection\", \"common_location\": \"\"}'\n",
      "b'{\"crime_id\": \"183653706\", \"original_crime_type_name\": \"Passing Call\", \"report_date\": \"2018-12-31T00:00:00.000\", \"call_date\": \"2018-12-31T00:00:00.000\", \"offense_date\": \"2018-12-31T00:00:00.000\", \"call_time\": \"23:34\", \"call_date_time\": \"2018-12-31T23:34:00.000\", \"disposition\": \"Not recorded\", \"address\": \"1500 Block Of Haight St\", \"city\": \"San Francisco\", \"state\": \"CA\", \"agency_id\": \"1\", \"address_type\": \"Common Location\", \"common_location\": \"Haight St Corridor, Sf\"}'\n",
      "b'{\"crime_id\": \"183653717\", \"original_crime_type_name\": \"Fight No Weapon\", \"report_date\": \"2018-12-31T00:00:00.000\", \"call_date\": \"2018-12-31T00:00:00.000\", \"offense_date\": \"2018-12-31T00:00:00.000\", \"call_time\": \"23:33\", \"call_date_time\": \"2018-12-31T23:33:00.000\", \"disposition\": \"GOA\", \"address\": \"5th St/minna St\", \"city\": \"San Francisco\", \"state\": \"CA\", \"agency_id\": \"1\", \"address_type\": \"Intersection\", \"common_location\": \"\"}'\n"
     ]
    }
   ],
   "source": [
    "with open('police-department-calls-for-service.json') as f:\n",
    "    json_data = json.load(f)\n",
    "    for i, line in enumerate(json_data):\n",
    "        if i < 10:\n",
    "            print (json.dumps(line).encode('utf8'))\n",
    "        else:\n",
    "            break"
   ]
  },
  {
   "cell_type": "code",
   "execution_count": null,
   "metadata": {
    "editable": true
   },
   "outputs": [],
   "source": []
  }
 ],
 "metadata": {
  "kernelspec": {
   "display_name": "Python 3",
   "language": "python",
   "name": "python3"
  },
  "language_info": {
   "codemirror_mode": {
    "name": "ipython",
    "version": 3
   },
   "file_extension": ".py",
   "mimetype": "text/x-python",
   "name": "python",
   "nbconvert_exporter": "python",
   "pygments_lexer": "ipython3",
   "version": "3.7.3"
  }
 },
 "nbformat": 4,
 "nbformat_minor": 4
}
