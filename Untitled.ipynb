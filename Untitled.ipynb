{
 "cells": [
  {
   "cell_type": "code",
   "execution_count": 2,
   "metadata": {
    "editable": true
   },
   "outputs": [],
   "source": [
    "import json"
   ]
  },
  {
   "cell_type": "code",
   "execution_count": 3,
   "metadata": {
    "editable": true
   },
   "outputs": [
    {
     "name": "stdout",
     "output_type": "stream",
     "text": [
      "-rw-r--r-- 1 root root 108M Oct 22  2019 police-department-calls-for-service.json\n"
     ]
    }
   ],
   "source": [
    "!ls -lh police-department-calls-for-service.json"
   ]
  },
  {
   "cell_type": "code",
   "execution_count": 4,
   "metadata": {
    "editable": true
   },
   "outputs": [],
   "source": [
    "data = []\n",
    "with open('police-department-calls-for-service.json') as f:\n",
    "    json_data = json.load(f)\n",
    "    for i, item in enumerate(json_data):\n",
    "        if i < 10:\n",
    "            data.append(item)\n",
    "            #print (json.dumps(line).encode('utf8'))\n",
    "        else:\n",
    "            break"
   ]
  },
  {
   "cell_type": "code",
   "execution_count": 9,
   "metadata": {
    "editable": true
   },
   "outputs": [
    {
     "name": "stdout",
     "output_type": "stream",
     "text": [
      "StructField(\"crime_id\",Type(), True),\n",
      "StructField(\"original_crime_type_name\",Type(), True),\n",
      "StructField(\"report_date\",Type(), True),\n",
      "StructField(\"call_date\",Type(), True),\n",
      "StructField(\"offense_date\",Type(), True),\n",
      "StructField(\"call_time\",Type(), True),\n",
      "StructField(\"call_date_time\",Type(), True),\n",
      "StructField(\"disposition\",Type(), True),\n",
      "StructField(\"address\",Type(), True),\n",
      "StructField(\"city\",Type(), True),\n",
      "StructField(\"state\",Type(), True),\n",
      "StructField(\"agency_id\",Type(), True),\n",
      "StructField(\"address_type\",Type(), True),\n",
      "StructField(\"common_location\",Type(), True),\n"
     ]
    }
   ],
   "source": [
    "for key in data[0].keys():\n",
    "    print(f'StructField(\"{key}\",Type(), True),')"
   ]
  },
  {
   "cell_type": "code",
   "execution_count": null,
   "metadata": {
    "editable": true
   },
   "outputs": [],
   "source": []
  }
 ],
 "metadata": {
  "kernelspec": {
   "display_name": "Python 3",
   "language": "python",
   "name": "python3"
  },
  "language_info": {
   "codemirror_mode": {
    "name": "ipython",
    "version": 3
   },
   "file_extension": ".py",
   "mimetype": "text/x-python",
   "name": "python",
   "nbconvert_exporter": "python",
   "pygments_lexer": "ipython3",
   "version": "3.7.3"
  }
 },
 "nbformat": 4,
 "nbformat_minor": 4
}
